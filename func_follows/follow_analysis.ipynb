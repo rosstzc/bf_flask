{
 "cells": [
  {
   "cell_type": "code",
   "execution_count": 1,
   "id": "26d04111",
   "metadata": {},
   "outputs": [
    {
     "name": "stdout",
     "output_type": "stream",
     "text": [
      "Requirement already satisfied: pandas in d:\\programdata\\anaconda3\\envs\\jupyterai\\lib\\site-packages (2.0.3)\n",
      "Requirement already satisfied: matplotlib in d:\\programdata\\anaconda3\\envs\\jupyterai\\lib\\site-packages (3.7.5)\n",
      "Requirement already satisfied: openpyxl in d:\\programdata\\anaconda3\\envs\\jupyterai\\lib\\site-packages (3.1.5)\n",
      "Requirement already satisfied: python-dateutil>=2.8.2 in d:\\programdata\\anaconda3\\envs\\jupyterai\\lib\\site-packages (from pandas) (2.8.2)\n",
      "Requirement already satisfied: pytz>=2020.1 in d:\\programdata\\anaconda3\\envs\\jupyterai\\lib\\site-packages (from pandas) (2024.1)\n",
      "Requirement already satisfied: tzdata>=2022.1 in d:\\programdata\\anaconda3\\envs\\jupyterai\\lib\\site-packages (from pandas) (2025.2)\n",
      "Requirement already satisfied: numpy>=1.20.3 in d:\\programdata\\anaconda3\\envs\\jupyterai\\lib\\site-packages (from pandas) (1.24.4)\n",
      "Requirement already satisfied: contourpy>=1.0.1 in d:\\programdata\\anaconda3\\envs\\jupyterai\\lib\\site-packages (from matplotlib) (1.1.1)\n",
      "Requirement already satisfied: cycler>=0.10 in d:\\programdata\\anaconda3\\envs\\jupyterai\\lib\\site-packages (from matplotlib) (0.12.1)\n",
      "Requirement already satisfied: fonttools>=4.22.0 in d:\\programdata\\anaconda3\\envs\\jupyterai\\lib\\site-packages (from matplotlib) (4.57.0)\n",
      "Requirement already satisfied: kiwisolver>=1.0.1 in d:\\programdata\\anaconda3\\envs\\jupyterai\\lib\\site-packages (from matplotlib) (1.4.7)\n",
      "Requirement already satisfied: packaging>=20.0 in d:\\programdata\\anaconda3\\envs\\jupyterai\\lib\\site-packages (from matplotlib) (23.2)\n",
      "Requirement already satisfied: pillow>=6.2.0 in d:\\programdata\\anaconda3\\envs\\jupyterai\\lib\\site-packages (from matplotlib) (10.4.0)\n",
      "Requirement already satisfied: pyparsing>=2.3.1 in d:\\programdata\\anaconda3\\envs\\jupyterai\\lib\\site-packages (from matplotlib) (3.1.4)\n",
      "Requirement already satisfied: importlib-resources>=3.2.0 in d:\\programdata\\anaconda3\\envs\\jupyterai\\lib\\site-packages (from matplotlib) (6.1.1)\n",
      "Requirement already satisfied: et-xmlfile in d:\\programdata\\anaconda3\\envs\\jupyterai\\lib\\site-packages (from openpyxl) (2.0.0)\n",
      "Requirement already satisfied: zipp>=3.1.0 in d:\\programdata\\anaconda3\\envs\\jupyterai\\lib\\site-packages (from importlib-resources>=3.2.0->matplotlib) (3.17.0)\n",
      "Requirement already satisfied: six>=1.5 in d:\\programdata\\anaconda3\\envs\\jupyterai\\lib\\site-packages (from python-dateutil>=2.8.2->pandas) (1.16.0)\n",
      "Note: you may need to restart the kernel to use updated packages.\n"
     ]
    }
   ],
   "source": [
    "%pip install pandas matplotlib openpyxl\n",
    "import pandas as pd\n",
    "import matplotlib.pyplot as plt\n",
    "import re\n",
    "\n",
    "\n",
    "import datetime\n",
    "import os\n",
    "\n",
    "    "
   ]
  },
  {
   "cell_type": "code",
   "execution_count": 3,
   "id": "07ead050",
   "metadata": {},
   "outputs": [
    {
     "name": "stdout",
     "output_type": "stream",
     "text": [
      "客户概况\n",
      "Index(['日期', '店铺客户数', '新访', '新访成交', '未购回访', '未购回访成交', '老客回访', '老客回访成交'], dtype='object')\n",
      "生意参谋-客户关注分析-核心指标\n",
      "Index(['日期', '曝光人数', '浏览人数', '互动人数', '进店人数'], dtype='object')\n",
      "生意参谋-客户关注分析-上新内容\n",
      "Index(['日期', '上新内容列表按曝光人数排序'], dtype='object')\n",
      "生意参谋-客户关注分析-清单内容\n",
      "Index(['日期', '清单内容列表按曝光人数排序'], dtype='object')\n",
      "生意参谋-内容管理-关注\n",
      "Index(['关注内容列表', '页码'], dtype='object')\n"
     ]
    }
   ],
   "source": [
    "\n",
    "\n",
    "#用pd读取input下的几个excel文件\n",
    "df_cient_summary = pd.read_excel('./input/生意参谋_客户概况.xlsx').iloc[:,:8]\n",
    "df_follows_views = pd.read_excel('./input/生意参谋-客户关注分析-核心指标.xlsx').iloc[:,:5]\n",
    "df_follows_contents_new = pd.read_excel('./input/生意参谋-客户关注分析-上新内容.xlsx').iloc[:,:2]\n",
    "df_follows_contents_list = pd.read_excel('./input/生意参谋-客户关注分析-清单内容.xlsx').iloc[:,:2]\n",
    "df_follows_contents = pd.read_excel('./input/生意参谋-内容管理-关注.xlsx').iloc[:,:2]\n",
    "print(\"客户概况\")\n",
    "print(df_cient_summary.columns)\n",
    "print(\"生意参谋-客户关注分析-核心指标\")\n",
    "print(df_follows_views.columns)\n",
    "print(\"生意参谋-客户关注分析-上新内容\")\n",
    "print(df_follows_contents_new.columns)\n",
    "print(\"生意参谋-客户关注分析-清单内容\")\n",
    "print(df_follows_contents_list.columns)\n",
    "print(\"生意参谋-内容管理-关注\")\n",
    "print(df_follows_contents.columns)"
   ]
  },
  {
   "cell_type": "code",
   "execution_count": 4,
   "id": "87045384",
   "metadata": {},
   "outputs": [],
   "source": [
    "#把新抓的数据合并，并导出新表，把老表用一个old目录保存\n",
    "df_cient_summary_TEMP = pd.read_excel('./input/temp/生意参谋_客户概况.xlsx').iloc[:,:8]\n",
    "df_follows_views_TEMP = pd.read_excel('./input/temp/生意参谋-客户关注分析-核心指标.xlsx').iloc[:,:5]\n",
    "df_follows_contents_new_TEMP = pd.read_excel('./input/temp/生意参谋-客户关注分析-上新内容.xlsx').iloc[:,:2]\n",
    "df_follows_contents_list_TEMP = pd.read_excel('./input/temp/生意参谋-客户关注分析-清单内容.xlsx').iloc[:,:2]\n",
    "df_follows_contents_TEMP = pd.read_excel('./input/temp/生意参谋-内容管理-关注.xlsx').iloc[:,:2]\n"
   ]
  },
  {
   "cell_type": "code",
   "execution_count": 5,
   "id": "e2b671d9",
   "metadata": {},
   "outputs": [],
   "source": [
    "#合并历史数据\n",
    "df_cient_summary = pd.concat([df_cient_summary_TEMP, df_cient_summary], ignore_index=True).drop_duplicates(subset='日期', keep='first').reset_index(drop=True)\n",
    "df_follows_views = pd.concat([df_follows_views_TEMP, df_follows_views], ignore_index=True).drop_duplicates(subset='日期', keep='first').reset_index(drop=True)\n",
    "df_follows_contents_new = pd.concat([df_follows_contents_new_TEMP, df_follows_contents_new], ignore_index=True).drop_duplicates(subset=['日期','上新内容列表按曝光人数排序'], keep='first').reset_index(drop=True)\n",
    "df_follows_contents_list = pd.concat([df_follows_contents_list_TEMP, df_follows_contents_list], ignore_index=True).drop_duplicates(subset=['日期','清单内容列表按曝光人数排序'], keep='first').reset_index(drop=True)\n",
    "df_follows_contents = pd.concat([df_follows_contents_TEMP, df_follows_contents], ignore_index=True).drop_duplicates(subset='关注内容列表', keep='first').reset_index(drop=True)\n",
    "\n"
   ]
  },
  {
   "cell_type": "code",
   "execution_count": 6,
   "id": "dea7bec3",
   "metadata": {},
   "outputs": [],
   "source": [
    "###下面代码移动旧数据，通过判断文件夹是否为空，来避免重复移动覆盖旧数据######################\n",
    "import shutil\n",
    "\n",
    "today = datetime.date.today()\n",
    "folder_name = today.strftime(\"%Y%m%d\")\n",
    "\n",
    "input_dir = './input/old/'\n",
    "folder_path = os.path.join(input_dir, folder_name)\n",
    "\n",
    "if not os.path.exists(folder_path):\n",
    "    os.makedirs(folder_path)\n",
    "\n",
    "#把旧的文件移动到这个文件夹，如果有相同名字就直接覆盖\n",
    "folder_path = os.path.join(input_dir, folder_name)\n",
    "\n",
    "files_to_move = [\n",
    "    './input/生意参谋_客户概况.xlsx',\n",
    "    './input/生意参谋-客户关注分析-核心指标.xlsx',\n",
    "    './input/生意参谋-客户关注分析-上新内容.xlsx',\n",
    "    './input/生意参谋-客户关注分析-清单内容.xlsx',\n",
    "    './input/生意参谋-内容管理-关注.xlsx'\n",
    "]\n",
    "\n",
    "if not os.listdir(folder_path):\n",
    "    for file in files_to_move:\n",
    "        try:\n",
    "            shutil.move(file, folder_path)\n",
    "        except PermissionError as e:\n",
    "            print(f\"PermissionError: Could not move {file}. It might be open in another program. Error: {e}\")\n",
    "else:\n",
    "    print(\"Folder is not empty, files will not be moved.\")"
   ]
  },
  {
   "cell_type": "code",
   "execution_count": 7,
   "id": "e969e112",
   "metadata": {},
   "outputs": [],
   "source": [
    "#再导出新的文件到input目录\n",
    "df_cient_summary.to_excel('./input/生意参谋_客户概况.xlsx', index=False)\n",
    "df_follows_views.to_excel('./input/生意参谋-客户关注分析-核心指标.xlsx', index=False)\n",
    "df_follows_contents_new.to_excel('./input/生意参谋-客户关注分析-上新内容.xlsx', index=False)\n",
    "df_follows_contents_list.to_excel('./input/生意参谋-客户关注分析-清单内容.xlsx', index=False)\n",
    "df_follows_contents.to_excel('./input/生意参谋-内容管理-关注.xlsx', index=False)"
   ]
  },
  {
   "cell_type": "markdown",
   "id": "56971a28",
   "metadata": {},
   "source": [
    "## 关注信息流内容 - 数据清理"
   ]
  },
  {
   "cell_type": "code",
   "execution_count": 44,
   "id": "b98017be",
   "metadata": {},
   "outputs": [],
   "source": [
    "# 删除哪些没有日期信息数据\n",
    "df_follows_contents = df_follows_contents[df_follows_contents['关注内容列表'].str.contains(r'\\d{4}-\\d{2}-\\d{2}', regex=True, na=False)]\n",
    "\n",
    "#把 关注内容列表， 按照空行拆分为一个list，记住是空行\n",
    "df_follows_contents['关注内容列表2'] = df_follows_contents['关注内容列表'].str.split('\\n\\t\\n')\n",
    "\n",
    "# 将拆分后的列表转换为 DataFrame\n",
    "split_columns = df_follows_contents['关注内容列表2'].apply(pd.Series)\n"
   ]
  },
  {
   "cell_type": "code",
   "execution_count": 45,
   "id": "49cec111",
   "metadata": {},
   "outputs": [
    {
     "name": "stdout",
     "output_type": "stream",
     "text": [
      "1077\n"
     ]
    }
   ],
   "source": [
    "#清理内容列表\n",
    "#定义一个函数来提取数据\n",
    "# def extract_data(text):\n",
    "#     # 拆分文本为几个模块\n",
    "#     sections = [section for section in text.split('\\n\\n')]\n",
    "#     # 提取每个模块的标题和内容\n",
    "#     title = sections[0].split('：')[1]\n",
    "\n",
    "#     return {\n",
    "#         \"内容标题\"：title,\n",
    "# }\n",
    "\n",
    "\n",
    "# # 示例数据\n",
    "# data = [\n",
    "#     \"高级感衬衫！ | 衬衫怎么搭都好看，让你成为穿搭高手！\\nID: 24255682137310\\n多品上新\\n\\n2025-04-11\\n20:11:12\\n\\n猜你喜欢已采纳\\n\\n已发布\\n\\n查看数据下线评论管理\"\n",
    "#     # 可以继续添加更多的内容\n",
    "# ]\n",
    "\n",
    "# # 创建DataFrame\n",
    "# df = pd.DataFrame(data, columns=[\"内容\"])\n",
    "\n",
    "# 定义一个函数来提取信息\n",
    "def extract_info(text):\n",
    "    # 拆分文本，按空行分割\n",
    "    sections = [section.strip() for section in text.split('\\n\\t\\n')]\n",
    "    #print(sections)\n",
    "    # 提取各个模块内容\n",
    "    title = sections[0].strip().split('\\n')[0]  # 内容标题, 第一行\n",
    "    content_id = re.search(r'ID:\\s*(\\d+)', sections[0]).group(1)  # id\n",
    "    content_type = sections[0].strip().split('\\n')[-1]  # 内容类型，最后一行\n",
    "    publish_date_match = re.search(r'\\d{4}-\\d{2}-\\d{2}', sections[1])  # 发布日期。 不能用位置判断，因为有字符“定时”\n",
    "    if publish_date_match:\n",
    "        publish_date = publish_date_match.group()  # 获取匹配的日期字符串\n",
    "    else:\n",
    "        publish_date = None  # 如果没有匹配，设置为 None\n",
    "    \n",
    "    publish_time = sections[1].strip().split('\\n')[1]  # 发布时间\n",
    "    adopted = sections[2].strip()  # 是否被采纳\n",
    "    published = sections[3].strip()  # 是否已发布\n",
    "    comments = sections[4].strip()  # 查看评论\n",
    "\n",
    "    # 返回结果\n",
    "    return {\n",
    "        \"内容标题\": title,\n",
    "        \"id\": content_id,\n",
    "        \"内容类型\": content_type,\n",
    "        \"发布日期\": publish_date,\n",
    "        \"发布时间\": publish_time,\n",
    "        \"是否被采纳\": adopted,\n",
    "        \"是否已发布\": published,\n",
    "        \"查看评论\": comments\n",
    "    }\n",
    "\n",
    "# 应用函数，提取所有行的信息\n",
    "extracted_data = df_follows_contents[\"关注内容列表\"].apply(extract_info)\n",
    "print(len(extracted_data))\n",
    "\n",
    "# 将提取到的数据转换为新的DataFrame\n",
    "extracted_df = pd.DataFrame(extracted_data.tolist(),dtype=str)\n",
    "df_follows_contents2 = extracted_df\n",
    "\n"
   ]
  },
  {
   "cell_type": "code",
   "execution_count": 46,
   "id": "a2583661",
   "metadata": {},
   "outputs": [],
   "source": [
    "\n",
    "# 统计每个日期的行数； 统计每个日期和内容类型的行数\n",
    "\n",
    "# 统计每个日期的行数\n",
    "df_counts = df_follows_contents2.groupby('发布日期').size().reset_index(name='行数')\n",
    "# 统计每个日期和内容类型的行数，日期列保持唯一值，每种数据类型作为1列，值就是行数\n",
    "\n",
    "df_counts2 = df_follows_contents2.groupby(['发布日期', '内容类型']).size().reset_index(name='行数')\n",
    "#df_counts2.to_excel('TEST.xlsx')\n",
    "\n",
    "\n",
    "# 透视表：行是“发布日期”，列是“内容类型”，值是“行数”\n",
    "pivot_df = df_counts2.pivot_table(index='发布日期', \n",
    "                          columns='内容类型', \n",
    "                          values='行数', \n",
    "                          fill_value=0)\n",
    "#pivot_df.to_excel('TEST.xlsx')\n",
    "#print(pivot_df)\n",
    "\n",
    "\n",
    "# #把客户关注分析表、df_counts，df_counts2合并， 以df_counts的‘发布日期’作为表索引\n",
    "df_counts.rename(columns={'行数': '总内容数'}, inplace=True)\n",
    "df_merge1 = pd.merge(df_counts, pivot_df, left_on='发布日期', right_on='发布日期', how='left')\n",
    "df_merge2 = pd.merge(df_merge1, df_follows_views, left_on='发布日期', right_on='日期', how='left')\n",
    "df_merge3 = pd.merge(df_merge2, df_cient_summary, left_on='发布日期', right_on='日期', how='left')\n",
    "df_merge4 = df_merge3[::-1]\n",
    "#df_merge = df_merge.drop(columns=[\"日期\"])\n",
    "\n",
    "\n",
    "\n",
    "\n",
    "\n",
    "#df_analysis = df_merge[['发布日期', '总内容数', '曝光人数', '店铺客户数']].copy()"
   ]
  },
  {
   "cell_type": "code",
   "execution_count": 82,
   "id": "d993e576",
   "metadata": {},
   "outputs": [
    {
     "name": "stdout",
     "output_type": "stream",
     "text": [
      "{'内容标题': '仙女必备连衣裙！浪漫又优雅，让你成为夏日焦点！🌸 你最喜欢什么颜色的连衣裙呢？', '内容ID': '24296002467310900009', '上传者': 'gobuybaby', '内容类型': '清单', '发布日期': '2025-04-12', '曝光人数': 95, '浏览人数': None}\n"
     ]
    }
   ],
   "source": [
    "#分析内容列表（内容id，内容分类，累计曝光，高曝光日期和值），需要结合df_follows_contents、df_follows_contents_new、df_follows_contents_list\n",
    "\n",
    "\n",
    "test44 = '''\n",
    "仙女必备连衣裙！浪漫又优雅，让你成为夏日焦点！🌸 你最喜欢什么颜色的连衣裙呢？\n",
    "\n",
    "内容ID：24296002467310900009\n",
    "    gobuybaby   清单  2025-04-12\n",
    "95\n",
    "\n",
    "\n",
    "25\n",
    "\n",
    "\n",
    "趋势\n",
    "'''\n",
    "\n",
    "def extract_info2(text):\n",
    "\n",
    "\n",
    "    lines = text.strip().split('\\n')\n",
    "\n",
    "    title = lines[0]\n",
    "    content_id_line = lines[2].split('：')\n",
    "    content_id = content_id_line[1].strip()\n",
    "    info_line = lines[3].split()\n",
    "    uploader = info_line[0].strip() if info_line else None\n",
    "    content_type = info_line[1].strip() if len(info_line) > 1 else None\n",
    "    publish_date = info_line[2].strip() if len(info_line) > 2 else None\n",
    "    reach_str = lines[4].strip().replace(',', '') if len(lines) > 4 and lines[4].strip() else None\n",
    "    reach = int(reach_str) if reach_str else None\n",
    "\n",
    "    views_str = lines[6].strip().replace(',', '') if len(lines) > 6 and lines[6].strip() else None\n",
    "    views = int(views_str) if views_str else None\n",
    "    data = {\n",
    "        \"内容标题\": title,\n",
    "        \"内容ID\": content_id,\n",
    "        \"上传者\": uploader,\n",
    "        \"内容类型\": content_type,\n",
    "        \"发布日期\": publish_date,\n",
    "        \"曝光人数\": reach,\n",
    "        \"浏览人数\": views,\n",
    "    }\n",
    "    return data\n",
    "print(extract_info2(test44))\n",
    "\n",
    "# 应用函数，提取所有行的信息\n",
    "df_follows_contents_new['拆分'] = df_follows_contents_new[\"上新内容列表按曝光人数排序\"].apply(extract_info2)\n",
    "df_follows_contents_list['拆分'] = df_follows_contents_list[\"清单内容列表按曝光人数排序\"].apply(extract_info2)\n",
    "\n",
    "\n",
    "# 将提取到的数据转换为新的DataFrame\n",
    "#df_extracted_new = pd.DataFrame(df_follows_contents_new['拆分'].tolist())\n",
    "#df_follows_contents2 = extracted_df\n",
    "\n",
    "\n"
   ]
  },
  {
   "cell_type": "code",
   "execution_count": null,
   "id": "1a133ded",
   "metadata": {},
   "outputs": [],
   "source": [
    "# df_follows_contents2.to_excel('')\n",
    "df_merge4.to_excel('TEST.xlsx')"
   ]
  },
  {
   "cell_type": "markdown",
   "id": "93a9705c",
   "metadata": {},
   "source": [
    "## 分析店铺客户数、关注内容曝光数、关注内容发布数的关系\n"
   ]
  },
  {
   "cell_type": "code",
   "execution_count": 37,
   "id": "ecedac10",
   "metadata": {},
   "outputs": [
    {
     "name": "stdout",
     "output_type": "stream",
     "text": [
      "           发布日期  总内容数    曝光人数     店铺客户数\n",
      "324  2025-04-23     7  5981.0   98428.0\n",
      "323  2025-04-22     8  5911.0   91812.0\n",
      "322  2025-04-21     8  5955.0   93854.0\n",
      "321  2025-04-20    28  6155.0  110233.0\n",
      "320  2025-04-19    27  6908.0  101115.0\n",
      "319  2025-04-18    44  6195.0  119401.0\n",
      "318  2025-04-17    25  4413.0  121879.0\n",
      "317  2025-04-16    22  4158.0  138786.0\n",
      "316  2025-04-15    11  3923.0  109763.0\n",
      "315  2025-04-14    18  5789.0  111130.0\n"
     ]
    }
   ],
   "source": [
    "# 日期、店铺客户数、关注曝光数，关注发布数\n",
    "\n",
    "# Ensure df_merge is defined by running the necessary cells above\n",
    "df_analysis = df_merge4[['发布日期', '总内容数', '曝光人数', '店铺客户数']].copy()\n",
    "df_analysis[['总内容数', '曝光人数', '店铺客户数']] = df_analysis[['总内容数', '曝光人数', '店铺客户数']].replace(',', '', regex=True).apply(pd.to_numeric, errors='coerce')\n",
    "print(df_analysis.head(10))\n",
    "\n",
    "cols_to_convert = ['总内容数', '曝光人数', '店铺客户数']\n",
    "for col in cols_to_convert:\n",
    "    df_analysis[col] = pd.to_numeric(df_analysis[col], errors='coerce')\n",
    "\n",
    "df_analysis['曝光比例'] = (df_analysis['曝光人数'] / df_analysis['店铺客户数'] * 100).round(1)\n",
    "df_analysis.to_excel('TEST2.xlsx')\n",
    "#以店铺"
   ]
  },
  {
   "cell_type": "code",
   "execution_count": null,
   "id": "9e72587f",
   "metadata": {},
   "outputs": [],
   "source": []
  },
  {
   "cell_type": "code",
   "execution_count": null,
   "id": "c91212a2",
   "metadata": {},
   "outputs": [],
   "source": []
  },
  {
   "cell_type": "code",
   "execution_count": null,
   "id": "8c37d409",
   "metadata": {},
   "outputs": [],
   "source": []
  },
  {
   "cell_type": "code",
   "execution_count": null,
   "id": "d2e2d268",
   "metadata": {},
   "outputs": [],
   "source": []
  }
 ],
 "metadata": {
  "celltoolbar": "Tags",
  "kernelspec": {
   "display_name": "jupyterai",
   "language": "python",
   "name": "python3"
  },
  "language_info": {
   "codemirror_mode": {
    "name": "ipython",
    "version": 3
   },
   "file_extension": ".py",
   "mimetype": "text/x-python",
   "name": "python",
   "nbconvert_exporter": "python",
   "pygments_lexer": "ipython3",
   "version": "3.8.18"
  }
 },
 "nbformat": 4,
 "nbformat_minor": 5
}
